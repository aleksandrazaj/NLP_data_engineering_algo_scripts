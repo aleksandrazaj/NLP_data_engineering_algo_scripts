{
 "cells": [
  {
   "cell_type": "code",
   "execution_count": null,
   "id": "cd5631b3",
   "metadata": {},
   "outputs": [],
   "source": [
    "pip install -U sentence-transformers\n",
    "pip install bert-extractive-summarizer"
   ]
  },
  {
   "cell_type": "code",
   "execution_count": null,
   "id": "ff2aa708",
   "metadata": {},
   "outputs": [],
   "source": [
    "from sentence_transformers import SentenceTransformer\n",
    "model = SentenceTransformer('stsb-roberta-large')"
   ]
  },
  {
   "cell_type": "code",
   "execution_count": null,
   "id": "ab2c84d3",
   "metadata": {},
   "outputs": [],
   "source": [
    "import pandas as pd\n",
    "data = pd.read_csv('data.csv')\n",
    "c = data[['sentence']]\n",
    "c.head()"
   ]
  },
  {
   "cell_type": "code",
   "execution_count": null,
   "id": "ff6e6e74",
   "metadata": {},
   "outputs": [],
   "source": [
    "# Get a vector for each headline (sentence) in the corpus\n",
    "corpus = c.sentence\n",
    "corpus_embeddings = model.encode(corpus)"
   ]
  },
  {
   "cell_type": "code",
   "execution_count": null,
   "id": "2e5056aa",
   "metadata": {},
   "outputs": [],
   "source": [
    "# Define search queries and embed them to vectors as well\n",
    "queries = [\n",
    "    'noise cancellation is great']\n",
    "query_embeddings = model.encode(queries)"
   ]
  },
  {
   "cell_type": "code",
   "execution_count": null,
   "id": "a60277f3",
   "metadata": {},
   "outputs": [],
   "source": [
    "#Queries based on embeddings\n",
    "import scipy\n",
    "# For each search term return 5 closest sentences\n",
    "closest_n = 5\n",
    "for query, query_embedding in zip(queries, query_embeddings):\n",
    "    distances = scipy.spatial.distance.cdist([query_embedding], corpus_embeddings, \"cosine\")[0]\n",
    "\n",
    "    results = zip(range(len(distances)), distances)\n",
    "    results = sorted(results, key=lambda x: x[1])\n",
    "\n",
    "    print(\"\\n\\n======================\\n\\n\")\n",
    "    print(\"Query:\", query)\n",
    "    print(\"\\nTop 5 most similar sentences in corpus:\")\n",
    "\n",
    "    for idx, distance in results[0:closest_n]:\n",
    "        df = list()\n",
    "        df.append(corpus[idx].strip())\n",
    "        print(corpus[idx].strip(), \"(Score: %.4f)\" % (1-distance))\n",
    "df = pd.DataFrame(df)\n",
    "df.to_csv('df.csv') "
   ]
  },
  {
   "cell_type": "code",
   "execution_count": null,
   "id": "2f88965f",
   "metadata": {},
   "outputs": [],
   "source": [
    "#Kmeans NLP clustering\n",
    "from sklearn.cluster import KMeans\n",
    "import numpy as np\n",
    "num_clusters = 3\n",
    "clustering_model = KMeans(n_clusters=num_clusters)\n",
    "clustering_model.fit(corpus_embeddings)\n",
    "cluster_assignment = clustering_model.labels_\n",
    "for i in range(3):\n",
    "    print()\n",
    "    print(f'Cluster {i + 1} contains:')\n",
    "    clust_sent = np.where(cluster_assignment == i)\n",
    "    for k in clust_sent[0]:\n",
    "        print(f'- {corpus[k]}')"
   ]
  },
  {
   "cell_type": "code",
   "execution_count": null,
   "id": "e785538c",
   "metadata": {},
   "outputs": [],
   "source": [
    "#extractive summary\n",
    "import spacy\n",
    "import spacy.cli\n",
    "from summarizer import Summarizer\n",
    "model = spacy.load('en_core_web_sm')\n",
    "\n",
    "train_review = c['sentence']\n",
    "train_token = ''\n",
    "for i in c['sentence']:\n",
    "   train_token += str(i)     \n"
   ]
  },
  {
   "cell_type": "code",
   "execution_count": null,
   "id": "d6b848fe",
   "metadata": {},
   "outputs": [],
   "source": [
    "body1 = train_token\n",
    "model = Summarizer()\n",
    "result = model(body1, num_sentences=2)\n",
    "full = ''.join(result)\n",
    "print(full)"
   ]
  }
 ],
 "metadata": {
  "kernelspec": {
   "display_name": "Python 3 (ipykernel)",
   "language": "python",
   "name": "python3"
  },
  "language_info": {
   "codemirror_mode": {
    "name": "ipython",
    "version": 3
   },
   "file_extension": ".py",
   "mimetype": "text/x-python",
   "name": "python",
   "nbconvert_exporter": "python",
   "pygments_lexer": "ipython3",
   "version": "3.7.4"
  }
 },
 "nbformat": 4,
 "nbformat_minor": 5
}
